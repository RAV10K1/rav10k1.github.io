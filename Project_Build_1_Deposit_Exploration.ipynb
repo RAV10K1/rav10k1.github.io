{
  "nbformat": 4,
  "nbformat_minor": 0,
  "metadata": {
    "colab": {
      "name": "Project_Build_1_Deposit_Exploration.ipynb",
      "provenance": [],
      "collapsed_sections": [],
      "authorship_tag": "ABX9TyPMKJ+Un1ETASVd+fpEAbFx",
      "include_colab_link": true
    },
    "kernelspec": {
      "name": "python3",
      "display_name": "Python 3"
    }
  },
  "cells": [
    {
      "cell_type": "markdown",
      "metadata": {
        "id": "view-in-github",
        "colab_type": "text"
      },
      "source": [
        "<a href=\"https://colab.research.google.com/github/RAV10K1/rav10k1.github.io/blob/master/Project_Build_1_Deposit_Exploration.ipynb\" target=\"_parent\"><img src=\"https://colab.research.google.com/assets/colab-badge.svg\" alt=\"Open In Colab\"/></a>"
      ]
    },
    {
      "cell_type": "markdown",
      "metadata": {
        "id": "NiQwXFpW0Qq2",
        "colab_type": "text"
      },
      "source": [
        "# A Journey Through the History of Deposits Held By US Financial Institutions (1934 to 2018)\n",
        "This data story is a historical exploration of deposits held by financial institutions in the United States going back from 1934 to 2018. The motivation behind this analysis is to present a visual perspective of the trend of the deposits during this period. \n",
        "\n",
        "The size of the United States economy is simply staggering. As of the latest estimate for Q4 2019, US GDP was measured at an astounding US $ 21.73 trillion. (www.bea.gov)\n",
        "\n",
        "This project is based on publicly available data obtained from the Federal Deposit Insurance Corporation (FDIC) database. (https://banks.data.fdic.gov/explore/historical/)\n",
        "\n",
        "A few things to note.\n",
        "* This is not an in-depth analysis of the financial services industry but only a visualization of the US deposit base.\n",
        "* Due to resource constraints the dataset has been cleaned and maintained to keep it as simple as possible with only relevant features selected and presented.\n"
      ]
    },
    {
      "cell_type": "code",
      "metadata": {
        "id": "vyOTQv1Oo8aQ",
        "colab_type": "code",
        "outputId": "02a4465f-fd2c-45ee-f32d-d5b16e1b2cdb",
        "colab": {
          "resources": {
            "http://localhost:8080/nbextensions/google.colab/files.js": {
              "data": "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",
              "ok": true,
              "headers": [
                [
                  "content-type",
                  "application/javascript"
                ]
              ],
              "status": 200,
              "status_text": ""
            }
          },
          "base_uri": "https://localhost:8080/",
          "height": 75
        }
      },
      "source": [
        "# Importing file from local system\n",
        "from google.colab import files\n",
        "\n",
        "uploaded = files.upload()"
      ],
      "execution_count": 1,
      "outputs": [
        {
          "output_type": "display_data",
          "data": {
            "text/html": [
              "\n",
              "     <input type=\"file\" id=\"files-c61e9153-97ae-4054-974f-6dd95aa35d0e\" name=\"files[]\" multiple disabled />\n",
              "     <output id=\"result-c61e9153-97ae-4054-974f-6dd95aa35d0e\">\n",
              "      Upload widget is only available when the cell has been executed in the\n",
              "      current browser session. Please rerun this cell to enable.\n",
              "      </output>\n",
              "      <script src=\"/nbextensions/google.colab/files.js\"></script> "
            ],
            "text/plain": [
              "<IPython.core.display.HTML object>"
            ]
          },
          "metadata": {
            "tags": []
          }
        },
        {
          "output_type": "stream",
          "text": [
            "Saving bank-data (1).csv to bank-data (1).csv\n"
          ],
          "name": "stdout"
        }
      ]
    },
    {
      "cell_type": "code",
      "metadata": {
        "id": "OMCnYOBypDEh",
        "colab_type": "code",
        "colab": {}
      },
      "source": [
        "# Defining file path\n",
        "file_path = '/content/bank-data (1).csv'"
      ],
      "execution_count": 0,
      "outputs": []
    },
    {
      "cell_type": "code",
      "metadata": {
        "id": "50B-wtd4pvhS",
        "colab_type": "code",
        "colab": {}
      },
      "source": [
        "# Importing libraries\n",
        "import pandas as pd\n",
        "import numpy as np\n",
        "import matplotlib.pyplot as plt"
      ],
      "execution_count": 0,
      "outputs": []
    },
    {
      "cell_type": "code",
      "metadata": {
        "id": "b-fdWB9dpDRl",
        "colab_type": "code",
        "outputId": "3e3f64f1-8f80-4c9b-846e-e41677700af6",
        "colab": {
          "base_uri": "https://localhost:8080/",
          "height": 549
        }
      },
      "source": [
        "# Reading file into Dataframe\n",
        "df_deposits = pd.read_csv(file_path)\n",
        "df_deposits.head()"
      ],
      "execution_count": 4,
      "outputs": [
        {
          "output_type": "execute_result",
          "data": {
            "text/html": [
              "<div>\n",
              "<style scoped>\n",
              "    .dataframe tbody tr th:only-of-type {\n",
              "        vertical-align: middle;\n",
              "    }\n",
              "\n",
              "    .dataframe tbody tr th {\n",
              "        vertical-align: top;\n",
              "    }\n",
              "\n",
              "    .dataframe thead th {\n",
              "        text-align: right;\n",
              "    }\n",
              "</style>\n",
              "<table border=\"1\" class=\"dataframe\">\n",
              "  <thead>\n",
              "    <tr style=\"text-align: right;\">\n",
              "      <th></th>\n",
              "      <th>YEAR</th>\n",
              "      <th>BANKS</th>\n",
              "      <th>TOTAL ASSETS</th>\n",
              "      <th>DEPOSITS DOMESTIC DEMAND</th>\n",
              "      <th>TOTAL DEPOSITS</th>\n",
              "      <th>TOTAL FOREIGN DEPOSITS</th>\n",
              "      <th>INTEREST BEARING DEPOSITS</th>\n",
              "      <th>FOREIGN DEPOSITS - INTEREST BEARING</th>\n",
              "      <th>DEPOSITS - NON-INTEREST BEARING</th>\n",
              "      <th>FOREIGN DEPOSITS - NON INTEREST BEARING</th>\n",
              "      <th>TOTAL EQUITY CAPITAL</th>\n",
              "      <th>NET INCOME</th>\n",
              "      <th>DEPOSITS - INDIVIDUALS, PARTNERSHIPS AND CORPORATIONS</th>\n",
              "      <th>DEPOSITS - US GOVT</th>\n",
              "      <th>DEPOSITS - STATE &amp; POLITICAL SUB-DIVISIONS</th>\n",
              "      <th>DEPOSITS - ALL OTHER</th>\n",
              "      <th>DEPOSITS - DOMESTIC SAVINGS</th>\n",
              "      <th>TOTAL DOMESTIC DEPOSITS</th>\n",
              "      <th>DOMESTIC DEPOSITS - NON-TRANSACTION</th>\n",
              "      <th>DEPOSITS - DOMESTIC TIME</th>\n",
              "      <th>DOMESTIC DEPOSITS - NON-TRANSACTION .1</th>\n",
              "      <th>LOCATIONS</th>\n",
              "    </tr>\n",
              "  </thead>\n",
              "  <tbody>\n",
              "    <tr>\n",
              "      <th>0</th>\n",
              "      <td>2018</td>\n",
              "      <td>4717</td>\n",
              "      <td>16,728,218,860.00</td>\n",
              "      <td>1,724,998,149.00</td>\n",
              "      <td>12,898,516,956.00</td>\n",
              "      <td>1,253,300,918.00</td>\n",
              "      <td>9,729,139,902.00</td>\n",
              "      <td>1,136,263,821.00</td>\n",
              "      <td>3,169,377,043.00</td>\n",
              "      <td>117,037,095.00</td>\n",
              "      <td>1,888,558,821.00</td>\n",
              "      <td>222,032,441.00</td>\n",
              "      <td>11,813,352,962.00</td>\n",
              "      <td>3,731,173.00</td>\n",
              "      <td>517,589,263.00</td>\n",
              "      <td>563,843,558.00</td>\n",
              "      <td>8,174,273,501.00</td>\n",
              "      <td>11,645,216,030.00</td>\n",
              "      <td>9,549,049,419.00</td>\n",
              "      <td>1,745,944,380.00</td>\n",
              "      <td>2,096,166,611.00</td>\n",
              "      <td>United States &amp; Other Areas</td>\n",
              "    </tr>\n",
              "    <tr>\n",
              "      <th>1</th>\n",
              "      <td>2017</td>\n",
              "      <td>4918</td>\n",
              "      <td>16,217,837,830.00</td>\n",
              "      <td>1,681,616,172.00</td>\n",
              "      <td>12,467,586,531.00</td>\n",
              "      <td>1,317,594,804.00</td>\n",
              "      <td>9,181,460,133.00</td>\n",
              "      <td>1,196,474,985.00</td>\n",
              "      <td>3,286,126,440.00</td>\n",
              "      <td>121,119,820.00</td>\n",
              "      <td>1,824,950,758.00</td>\n",
              "      <td>151,745,229.00</td>\n",
              "      <td>11,411,764,307.00</td>\n",
              "      <td>3,828,972.00</td>\n",
              "      <td>511,274,327.00</td>\n",
              "      <td>540,718,925.00</td>\n",
              "      <td>7,957,428,897.00</td>\n",
              "      <td>11,149,991,730.00</td>\n",
              "      <td>9,125,307,044.00</td>\n",
              "      <td>1,510,946,661.00</td>\n",
              "      <td>2,024,684,686.00</td>\n",
              "      <td>United States &amp; Other Areas</td>\n",
              "    </tr>\n",
              "    <tr>\n",
              "      <th>2</th>\n",
              "      <td>2016</td>\n",
              "      <td>5112</td>\n",
              "      <td>15,627,737,030.00</td>\n",
              "      <td>1,592,931,789.00</td>\n",
              "      <td>11,982,312,148.00</td>\n",
              "      <td>1,245,578,949.00</td>\n",
              "      <td>8,800,151,248.00</td>\n",
              "      <td>1,135,662,990.00</td>\n",
              "      <td>3,182,160,925.00</td>\n",
              "      <td>109,915,959.00</td>\n",
              "      <td>1,737,945,840.00</td>\n",
              "      <td>156,919,798.00</td>\n",
              "      <td>11,024,817,199.00</td>\n",
              "      <td>3,752,892.00</td>\n",
              "      <td>501,395,627.00</td>\n",
              "      <td>452,346,430.00</td>\n",
              "      <td>7,707,735,749.00</td>\n",
              "      <td>10,736,733,203.00</td>\n",
              "      <td>8,816,751,876.00</td>\n",
              "      <td>1,436,065,665.00</td>\n",
              "      <td>1,919,981,327.00</td>\n",
              "      <td>United States &amp; Other Areas</td>\n",
              "    </tr>\n",
              "    <tr>\n",
              "      <th>3</th>\n",
              "      <td>2015</td>\n",
              "      <td>5340</td>\n",
              "      <td>14,893,214,772.00</td>\n",
              "      <td>1,493,418,751.00</td>\n",
              "      <td>11,349,503,567.00</td>\n",
              "      <td>1,281,997,023.00</td>\n",
              "      <td>8,320,140,393.00</td>\n",
              "      <td>1,180,164,205.00</td>\n",
              "      <td>3,029,363,204.00</td>\n",
              "      <td>101,832,818.00</td>\n",
              "      <td>1,675,818,834.00</td>\n",
              "      <td>151,896,097.00</td>\n",
              "      <td>10,424,804,609.00</td>\n",
              "      <td>4,114,806.00</td>\n",
              "      <td>490,270,636.00</td>\n",
              "      <td>430,313,516.00</td>\n",
              "      <td>7,107,479,959.00</td>\n",
              "      <td>10,067,506,566.00</td>\n",
              "      <td>8,255,263,551.00</td>\n",
              "      <td>1,466,607,856.00</td>\n",
              "      <td>1,812,243,015.00</td>\n",
              "      <td>United States &amp; Other Areas</td>\n",
              "    </tr>\n",
              "    <tr>\n",
              "      <th>4</th>\n",
              "      <td>2014</td>\n",
              "      <td>5607</td>\n",
              "      <td>14,474,657,532.00</td>\n",
              "      <td>1,435,921,613.00</td>\n",
              "      <td>10,938,732,842.00</td>\n",
              "      <td>1,393,368,957.00</td>\n",
              "      <td>8,056,677,809.00</td>\n",
              "      <td>1,291,043,867.00</td>\n",
              "      <td>2,882,055,034.00</td>\n",
              "      <td>102,325,088.00</td>\n",
              "      <td>1,606,757,767.00</td>\n",
              "      <td>140,189,718.00</td>\n",
              "      <td>9,985,108,503.00</td>\n",
              "      <td>4,719,031.00</td>\n",
              "      <td>483,985,814.00</td>\n",
              "      <td>464,919,494.00</td>\n",
              "      <td>6,618,266,347.00</td>\n",
              "      <td>9,545,363,885.00</td>\n",
              "      <td>7,804,586,605.00</td>\n",
              "      <td>1,491,175,925.00</td>\n",
              "      <td>1,740,777,280.00</td>\n",
              "      <td>United States &amp; Other Areas</td>\n",
              "    </tr>\n",
              "  </tbody>\n",
              "</table>\n",
              "</div>"
            ],
            "text/plain": [
              "   YEAR  ...                    LOCATIONS\n",
              "0  2018  ...  United States & Other Areas\n",
              "1  2017  ...  United States & Other Areas\n",
              "2  2016  ...  United States & Other Areas\n",
              "3  2015  ...  United States & Other Areas\n",
              "4  2014  ...  United States & Other Areas\n",
              "\n",
              "[5 rows x 22 columns]"
            ]
          },
          "metadata": {
            "tags": []
          },
          "execution_count": 4
        }
      ]
    },
    {
      "cell_type": "code",
      "metadata": {
        "id": "Eftqbh64pDOL",
        "colab_type": "code",
        "colab": {}
      },
      "source": [
        "df_deposits.rename({'BANKS' :'NUMBER OF BANKS'}, axis=1, inplace=True)"
      ],
      "execution_count": 0,
      "outputs": []
    },
    {
      "cell_type": "code",
      "metadata": {
        "id": "Dce7suclpDMO",
        "colab_type": "code",
        "outputId": "275395cd-3880-4ba0-e7fb-55ef50137c6c",
        "colab": {
          "base_uri": "https://localhost:8080/",
          "height": 549
        }
      },
      "source": [
        "df_deposits.head()"
      ],
      "execution_count": 6,
      "outputs": [
        {
          "output_type": "execute_result",
          "data": {
            "text/html": [
              "<div>\n",
              "<style scoped>\n",
              "    .dataframe tbody tr th:only-of-type {\n",
              "        vertical-align: middle;\n",
              "    }\n",
              "\n",
              "    .dataframe tbody tr th {\n",
              "        vertical-align: top;\n",
              "    }\n",
              "\n",
              "    .dataframe thead th {\n",
              "        text-align: right;\n",
              "    }\n",
              "</style>\n",
              "<table border=\"1\" class=\"dataframe\">\n",
              "  <thead>\n",
              "    <tr style=\"text-align: right;\">\n",
              "      <th></th>\n",
              "      <th>YEAR</th>\n",
              "      <th>NUMBER OF BANKS</th>\n",
              "      <th>TOTAL ASSETS</th>\n",
              "      <th>DEPOSITS DOMESTIC DEMAND</th>\n",
              "      <th>TOTAL DEPOSITS</th>\n",
              "      <th>TOTAL FOREIGN DEPOSITS</th>\n",
              "      <th>INTEREST BEARING DEPOSITS</th>\n",
              "      <th>FOREIGN DEPOSITS - INTEREST BEARING</th>\n",
              "      <th>DEPOSITS - NON-INTEREST BEARING</th>\n",
              "      <th>FOREIGN DEPOSITS - NON INTEREST BEARING</th>\n",
              "      <th>TOTAL EQUITY CAPITAL</th>\n",
              "      <th>NET INCOME</th>\n",
              "      <th>DEPOSITS - INDIVIDUALS, PARTNERSHIPS AND CORPORATIONS</th>\n",
              "      <th>DEPOSITS - US GOVT</th>\n",
              "      <th>DEPOSITS - STATE &amp; POLITICAL SUB-DIVISIONS</th>\n",
              "      <th>DEPOSITS - ALL OTHER</th>\n",
              "      <th>DEPOSITS - DOMESTIC SAVINGS</th>\n",
              "      <th>TOTAL DOMESTIC DEPOSITS</th>\n",
              "      <th>DOMESTIC DEPOSITS - NON-TRANSACTION</th>\n",
              "      <th>DEPOSITS - DOMESTIC TIME</th>\n",
              "      <th>DOMESTIC DEPOSITS - NON-TRANSACTION .1</th>\n",
              "      <th>LOCATIONS</th>\n",
              "    </tr>\n",
              "  </thead>\n",
              "  <tbody>\n",
              "    <tr>\n",
              "      <th>0</th>\n",
              "      <td>2018</td>\n",
              "      <td>4717</td>\n",
              "      <td>16,728,218,860.00</td>\n",
              "      <td>1,724,998,149.00</td>\n",
              "      <td>12,898,516,956.00</td>\n",
              "      <td>1,253,300,918.00</td>\n",
              "      <td>9,729,139,902.00</td>\n",
              "      <td>1,136,263,821.00</td>\n",
              "      <td>3,169,377,043.00</td>\n",
              "      <td>117,037,095.00</td>\n",
              "      <td>1,888,558,821.00</td>\n",
              "      <td>222,032,441.00</td>\n",
              "      <td>11,813,352,962.00</td>\n",
              "      <td>3,731,173.00</td>\n",
              "      <td>517,589,263.00</td>\n",
              "      <td>563,843,558.00</td>\n",
              "      <td>8,174,273,501.00</td>\n",
              "      <td>11,645,216,030.00</td>\n",
              "      <td>9,549,049,419.00</td>\n",
              "      <td>1,745,944,380.00</td>\n",
              "      <td>2,096,166,611.00</td>\n",
              "      <td>United States &amp; Other Areas</td>\n",
              "    </tr>\n",
              "    <tr>\n",
              "      <th>1</th>\n",
              "      <td>2017</td>\n",
              "      <td>4918</td>\n",
              "      <td>16,217,837,830.00</td>\n",
              "      <td>1,681,616,172.00</td>\n",
              "      <td>12,467,586,531.00</td>\n",
              "      <td>1,317,594,804.00</td>\n",
              "      <td>9,181,460,133.00</td>\n",
              "      <td>1,196,474,985.00</td>\n",
              "      <td>3,286,126,440.00</td>\n",
              "      <td>121,119,820.00</td>\n",
              "      <td>1,824,950,758.00</td>\n",
              "      <td>151,745,229.00</td>\n",
              "      <td>11,411,764,307.00</td>\n",
              "      <td>3,828,972.00</td>\n",
              "      <td>511,274,327.00</td>\n",
              "      <td>540,718,925.00</td>\n",
              "      <td>7,957,428,897.00</td>\n",
              "      <td>11,149,991,730.00</td>\n",
              "      <td>9,125,307,044.00</td>\n",
              "      <td>1,510,946,661.00</td>\n",
              "      <td>2,024,684,686.00</td>\n",
              "      <td>United States &amp; Other Areas</td>\n",
              "    </tr>\n",
              "    <tr>\n",
              "      <th>2</th>\n",
              "      <td>2016</td>\n",
              "      <td>5112</td>\n",
              "      <td>15,627,737,030.00</td>\n",
              "      <td>1,592,931,789.00</td>\n",
              "      <td>11,982,312,148.00</td>\n",
              "      <td>1,245,578,949.00</td>\n",
              "      <td>8,800,151,248.00</td>\n",
              "      <td>1,135,662,990.00</td>\n",
              "      <td>3,182,160,925.00</td>\n",
              "      <td>109,915,959.00</td>\n",
              "      <td>1,737,945,840.00</td>\n",
              "      <td>156,919,798.00</td>\n",
              "      <td>11,024,817,199.00</td>\n",
              "      <td>3,752,892.00</td>\n",
              "      <td>501,395,627.00</td>\n",
              "      <td>452,346,430.00</td>\n",
              "      <td>7,707,735,749.00</td>\n",
              "      <td>10,736,733,203.00</td>\n",
              "      <td>8,816,751,876.00</td>\n",
              "      <td>1,436,065,665.00</td>\n",
              "      <td>1,919,981,327.00</td>\n",
              "      <td>United States &amp; Other Areas</td>\n",
              "    </tr>\n",
              "    <tr>\n",
              "      <th>3</th>\n",
              "      <td>2015</td>\n",
              "      <td>5340</td>\n",
              "      <td>14,893,214,772.00</td>\n",
              "      <td>1,493,418,751.00</td>\n",
              "      <td>11,349,503,567.00</td>\n",
              "      <td>1,281,997,023.00</td>\n",
              "      <td>8,320,140,393.00</td>\n",
              "      <td>1,180,164,205.00</td>\n",
              "      <td>3,029,363,204.00</td>\n",
              "      <td>101,832,818.00</td>\n",
              "      <td>1,675,818,834.00</td>\n",
              "      <td>151,896,097.00</td>\n",
              "      <td>10,424,804,609.00</td>\n",
              "      <td>4,114,806.00</td>\n",
              "      <td>490,270,636.00</td>\n",
              "      <td>430,313,516.00</td>\n",
              "      <td>7,107,479,959.00</td>\n",
              "      <td>10,067,506,566.00</td>\n",
              "      <td>8,255,263,551.00</td>\n",
              "      <td>1,466,607,856.00</td>\n",
              "      <td>1,812,243,015.00</td>\n",
              "      <td>United States &amp; Other Areas</td>\n",
              "    </tr>\n",
              "    <tr>\n",
              "      <th>4</th>\n",
              "      <td>2014</td>\n",
              "      <td>5607</td>\n",
              "      <td>14,474,657,532.00</td>\n",
              "      <td>1,435,921,613.00</td>\n",
              "      <td>10,938,732,842.00</td>\n",
              "      <td>1,393,368,957.00</td>\n",
              "      <td>8,056,677,809.00</td>\n",
              "      <td>1,291,043,867.00</td>\n",
              "      <td>2,882,055,034.00</td>\n",
              "      <td>102,325,088.00</td>\n",
              "      <td>1,606,757,767.00</td>\n",
              "      <td>140,189,718.00</td>\n",
              "      <td>9,985,108,503.00</td>\n",
              "      <td>4,719,031.00</td>\n",
              "      <td>483,985,814.00</td>\n",
              "      <td>464,919,494.00</td>\n",
              "      <td>6,618,266,347.00</td>\n",
              "      <td>9,545,363,885.00</td>\n",
              "      <td>7,804,586,605.00</td>\n",
              "      <td>1,491,175,925.00</td>\n",
              "      <td>1,740,777,280.00</td>\n",
              "      <td>United States &amp; Other Areas</td>\n",
              "    </tr>\n",
              "  </tbody>\n",
              "</table>\n",
              "</div>"
            ],
            "text/plain": [
              "   YEAR  ...                    LOCATIONS\n",
              "0  2018  ...  United States & Other Areas\n",
              "1  2017  ...  United States & Other Areas\n",
              "2  2016  ...  United States & Other Areas\n",
              "3  2015  ...  United States & Other Areas\n",
              "4  2014  ...  United States & Other Areas\n",
              "\n",
              "[5 rows x 22 columns]"
            ]
          },
          "metadata": {
            "tags": []
          },
          "execution_count": 6
        }
      ]
    },
    {
      "cell_type": "code",
      "metadata": {
        "id": "oKIA2ainpDHy",
        "colab_type": "code",
        "colab": {}
      },
      "source": [
        "# Setting up plotly to run in Colab\n",
        "def enable_plotly_in_cell():\n",
        "    import IPython\n",
        "    from plotly.offline import init_notebook_mode\n",
        "    display(IPython.core.display.HTML('''<script src=\"/static/components/requirejs/require.js\"></script>'''))\n",
        "    init_notebook_mode(connected=False)"
      ],
      "execution_count": 0,
      "outputs": []
    },
    {
      "cell_type": "code",
      "metadata": {
        "id": "aXoWIIrv8A0-",
        "colab_type": "code",
        "colab": {}
      },
      "source": [
        ""
      ],
      "execution_count": 0,
      "outputs": []
    },
    {
      "cell_type": "code",
      "metadata": {
        "id": "1tPiqBqz8Av4",
        "colab_type": "code",
        "colab": {}
      },
      "source": [
        ""
      ],
      "execution_count": 0,
      "outputs": []
    },
    {
      "cell_type": "code",
      "metadata": {
        "id": "bpeJ3SF98ApH",
        "colab_type": "code",
        "colab": {}
      },
      "source": [
        ""
      ],
      "execution_count": 0,
      "outputs": []
    }
  ]
}